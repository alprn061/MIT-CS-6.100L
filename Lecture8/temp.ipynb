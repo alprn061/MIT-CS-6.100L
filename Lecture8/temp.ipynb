{
 "cells": [
  {
   "cell_type": "code",
   "execution_count": null,
   "id": "46d265b2",
   "metadata": {},
   "outputs": [],
   "source": [
    "def isHappy(n):\n",
    "    n = str(n)\n",
    "    sum = 0\n",
    "    for i in n:\n",
    "        sum += int(i)**2\n",
    "    if sum == 1:\n",
    "        return True\n",
    "    elif int(n)>50:\n",
    "        return False\n",
    "    else:\n",
    "        return isHappy(sum)    \n"
   ]
  },
  {
   "cell_type": "code",
   "execution_count": 13,
   "id": "93044603",
   "metadata": {},
   "outputs": [
    {
     "name": "stdout",
     "output_type": "stream",
     "text": [
      "0\n",
      "1\n",
      "[1, 2, 1]\n"
     ]
    }
   ],
   "source": [
    "one = [[1]]\n",
    "two = [[1], [1,1]]\n",
    "three = []\n",
    "for i in range(len(two[-1])):\n",
    "    print(i)\n",
    "    if i ==0:\n",
    "        three.append(two[-1][i])\n",
    "    else:\n",
    "        three += [two[-1][i]+two[-1][i-1]]\n",
    "three.append(1)\n",
    "print(three)"
   ]
  }
 ],
 "metadata": {
  "kernelspec": {
   "display_name": "Python 3",
   "language": "python",
   "name": "python3"
  },
  "language_info": {
   "codemirror_mode": {
    "name": "ipython",
    "version": 3
   },
   "file_extension": ".py",
   "mimetype": "text/x-python",
   "name": "python",
   "nbconvert_exporter": "python",
   "pygments_lexer": "ipython3",
   "version": "3.11.5"
  }
 },
 "nbformat": 4,
 "nbformat_minor": 5
}
