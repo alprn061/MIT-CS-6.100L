{
 "cells": [
  {
   "cell_type": "code",
   "execution_count": 1,
   "id": "4af2510b",
   "metadata": {},
   "outputs": [
    {
     "name": "stdout",
     "output_type": "stream",
     "text": [
      "['hello', 'world']\n"
     ]
    }
   ],
   "source": [
    "a = \"hello world\"\n",
    "b = a.split(\" \")\n",
    "print(b)"
   ]
  },
  {
   "cell_type": "code",
   "execution_count": 11,
   "id": "e07bc87a",
   "metadata": {},
   "outputs": [
    {
     "name": "stdout",
     "output_type": "stream",
     "text": [
      "{'hello': 2, 'world': 1}\n",
      "{'hello': 1, 'friend': 1}\n"
     ]
    }
   ],
   "source": [
    "count1 = {}\n",
    "for elem in ['hello', 'world', 'hello']:\n",
    "    if elem in count1.keys():\n",
    "        count1[elem] += 1\n",
    "    else:\n",
    "        count1.update({elem:1})\n",
    "print(count1)\n",
    "\n",
    "count2 = {}\n",
    "for elem in ['hello', 'friend']:\n",
    "    if elem in count2.keys():\n",
    "        count2[elem] += 1\n",
    "    else:\n",
    "        count2.update({elem:1})\n",
    "print(count2)\n"
   ]
  },
  {
   "cell_type": "code",
   "execution_count": 13,
   "id": "46b7a6bd",
   "metadata": {},
   "outputs": [
    {
     "name": "stdout",
     "output_type": "stream",
     "text": [
      "{'friend': 1, 'hello': 1, 'world': 1} {'friend': 1, 'hello': 3, 'world': 1}\n"
     ]
    }
   ],
   "source": [
    "u = set(count1 | count2)\n",
    "diffu = {}\n",
    "for e in u:\n",
    "    v1 = count1.get(e, 0)\n",
    "    v2 = count2.get(e, 0)\n",
    "    diffu[e] = abs(v1 - v2)\n",
    "\n",
    "totalu = {}\n",
    "for e in u:\n",
    "    v1 = count1.get(e, 0)\n",
    "    v2 = count2.get(e, 0)\n",
    "    totalu[e] = v1 + v2\n",
    "\n",
    "print(diffu, totalu)"
   ]
  },
  {
   "cell_type": "code",
   "execution_count": 17,
   "id": "471fc2c6",
   "metadata": {},
   "outputs": [
    {
     "name": "stdout",
     "output_type": "stream",
     "text": [
      "3\n"
     ]
    }
   ],
   "source": [
    "# compute and display the sum of the values in diffu\n",
    "print(sum(diffu.values()))"
   ]
  },
  {
   "cell_type": "code",
   "execution_count": 1,
   "id": "4bc0fe6f",
   "metadata": {},
   "outputs": [
    {
     "data": {
      "text/plain": [
       "['hello']"
      ]
     },
     "execution_count": 1,
     "metadata": {},
     "output_type": "execute_result"
    }
   ],
   "source": [
    "freq_dict1, freq_dict2 = {\"hello\": 5, \"world\": 1}, {\"hello\": 1, \"world\": 5}\n",
    "max1 = max(freq_dict1.values())\n",
    "k1 = [k for k,v in freq_dict1.items() if v ==max1]\n",
    "k1"
   ]
  },
  {
   "cell_type": "code",
   "execution_count": null,
   "id": "b0ea0ff1",
   "metadata": {},
   "outputs": [],
   "source": [
    "freq_dict1[\"hello\"]"
   ]
  },
  {
   "cell_type": "code",
   "execution_count": null,
   "id": "594f7fd4",
   "metadata": {},
   "outputs": [
    {
     "ename": "TypeError",
     "evalue": "'set' object does not support item assignment",
     "output_type": "error",
     "traceback": [
      "\u001b[1;31m---------------------------------------------------------------------------\u001b[0m",
      "\u001b[1;31mTypeError\u001b[0m                                 Traceback (most recent call last)",
      "Cell \u001b[1;32mIn[14], line 4\u001b[0m\n\u001b[0;32m      2\u001b[0m b \u001b[38;5;241m=\u001b[39m [\u001b[38;5;124m\"\u001b[39m\u001b[38;5;124mc\u001b[39m\u001b[38;5;124m\"\u001b[39m, \u001b[38;5;124m\"\u001b[39m\u001b[38;5;124md\u001b[39m\u001b[38;5;124m\"\u001b[39m]\n\u001b[0;32m      3\u001b[0m c \u001b[38;5;241m=\u001b[39m \u001b[38;5;28mset\u001b[39m(a) \u001b[38;5;241m|\u001b[39m \u001b[38;5;28mset\u001b[39m(b)\n\u001b[1;32m----> 4\u001b[0m \u001b[43mc\u001b[49m\u001b[43m[\u001b[49m\u001b[38;5;124;43m\"\u001b[39;49m\u001b[38;5;124;43ma\u001b[39;49m\u001b[38;5;124;43m\"\u001b[39;49m\u001b[43m]\u001b[49m \u001b[38;5;241m=\u001b[39m \u001b[38;5;241m1\u001b[39m\n\u001b[0;32m      5\u001b[0m \u001b[38;5;28mprint\u001b[39m(c)\n",
      "\u001b[1;31mTypeError\u001b[0m: 'set' object does not support item assignment"
     ]
    }
   ],
   "source": [
    "a = [\"a\", \"b\",\"c\"]\n",
    "b = [\"c\", \"d\"]\n",
    "c = set(a) | set(b)\n",
    "print(c)"
   ]
  }
 ],
 "metadata": {
  "kernelspec": {
   "display_name": "Python 3",
   "language": "python",
   "name": "python3"
  },
  "language_info": {
   "codemirror_mode": {
    "name": "ipython",
    "version": 3
   },
   "file_extension": ".py",
   "mimetype": "text/x-python",
   "name": "python",
   "nbconvert_exporter": "python",
   "pygments_lexer": "ipython3",
   "version": "3.11.5"
  }
 },
 "nbformat": 4,
 "nbformat_minor": 5
}
