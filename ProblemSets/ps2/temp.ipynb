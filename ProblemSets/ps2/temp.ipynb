{
 "cells": [
  {
   "cell_type": "code",
   "execution_count": 6,
   "id": "46f1c2cf",
   "metadata": {},
   "outputs": [
    {
     "name": "stdout",
     "output_type": "stream",
     "text": [
      "<function chck at 0x000001EE8926CFE0>\n"
     ]
    }
   ],
   "source": [
    "a = \"abcd\"\n",
    "b = []\n",
    "for i in a:\n",
    "    b.append(i)\n",
    "\n",
    "c = [\"a\",\"b\",\"c\",\"d\"]\n",
    "def chck():\n",
    "    if c in b:\n",
    "        return True\n",
    "    \n",
    "print(chck)"
   ]
  },
  {
   "cell_type": "code",
   "execution_count": 14,
   "id": "100519bf",
   "metadata": {},
   "outputs": [
    {
     "name": "stdout",
     "output_type": "stream",
     "text": [
      "True\n"
     ]
    }
   ],
   "source": [
    "a = \"abcd\"\n",
    "c = \"abcdf\"\n",
    "\n",
    "def check(secr, thmn):\n",
    "    count = 0\n",
    "    for i in thmn:\n",
    "        if i in secr:\n",
    "            count += 1\n",
    "    return count == len(secr)\n",
    "\n",
    "print(check(a,c))\n"
   ]
  },
  {
   "cell_type": "code",
   "execution_count": 15,
   "id": "2f4271c4",
   "metadata": {},
   "outputs": [
    {
     "data": {
      "text/plain": [
       "'abcdefghijklmnopqrstuvwxyz'"
      ]
     },
     "execution_count": 15,
     "metadata": {},
     "output_type": "execute_result"
    }
   ],
   "source": [
    "import string\n",
    "letters = string.ascii_lowercase\n",
    "letters"
   ]
  },
  {
   "cell_type": "code",
   "execution_count": 21,
   "id": "f823b08e",
   "metadata": {},
   "outputs": [
    {
     "name": "stdout",
     "output_type": "stream",
     "text": [
      "abcdefghijklmnopqrstuvwxyz\n",
      "efghijklmnopqrstuvwxyz\n"
     ]
    }
   ],
   "source": [
    "available_letters = string.ascii_lowercase\n",
    "print(available_letters)\n",
    "letters_guessed = [\"a\",\"b\",\"c\",\"d\"]\n",
    "for i in letters_guessed:\n",
    "    available_letters = available_letters.replace(i, \"\")\n",
    "print(available_letters)\n"
   ]
  },
  {
   "cell_type": "code",
   "execution_count": 20,
   "id": "3e0c80ef",
   "metadata": {},
   "outputs": [
    {
     "name": "stdout",
     "output_type": "stream",
     "text": [
      "ebcd\n"
     ]
    }
   ],
   "source": [
    "a = \"abcd\"\n",
    "a = a.replace(\"a\", \"e\")\n",
    "print(a)"
   ]
  }
 ],
 "metadata": {
  "kernelspec": {
   "display_name": "Python 3",
   "language": "python",
   "name": "python3"
  },
  "language_info": {
   "codemirror_mode": {
    "name": "ipython",
    "version": 3
   },
   "file_extension": ".py",
   "mimetype": "text/x-python",
   "name": "python",
   "nbconvert_exporter": "python",
   "pygments_lexer": "ipython3",
   "version": "3.11.5"
  }
 },
 "nbformat": 4,
 "nbformat_minor": 5
}
